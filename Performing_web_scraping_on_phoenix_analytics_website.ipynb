{
  "nbformat": 4,
  "nbformat_minor": 0,
  "metadata": {
    "colab": {
      "provenance": []
    },
    "kernelspec": {
      "name": "python3",
      "display_name": "Python 3"
    },
    "language_info": {
      "name": "python"
    }
  },
  "cells": [
    {
      "cell_type": "code",
      "execution_count": 1,
      "metadata": {
        "colab": {
          "base_uri": "https://localhost:8080/"
        },
        "id": "6Bdl7E0XBXGf",
        "outputId": "e9b0a59f-97ad-4a1c-8c4f-46045a92a1bb"
      },
      "outputs": [
        {
          "output_type": "stream",
          "name": "stderr",
          "text": [
            "[nltk_data] Downloading package punkt to /root/nltk_data...\n",
            "[nltk_data]   Unzipping tokenizers/punkt.zip.\n",
            "[nltk_data] Downloading package stopwords to /root/nltk_data...\n",
            "[nltk_data]   Unzipping corpora/stopwords.zip.\n"
          ]
        }
      ],
      "source": [
        "#import  the relevant libraries\n",
        "import nltk\n",
        "nltk.download('punkt')\n",
        "nltk.download('stopwords')\n",
        "import urllib\n",
        "import re\n",
        "from bs4 import BeautifulSoup\n",
        "from nltk.corpus import stopwords\n",
        "from nltk.stem.porter import PorterStemmer\n",
        "from nltk.stem.lancaster import LancasterStemmer\n",
        "from nltk.stem.snowball import SnowballStemmer"
      ]
    },
    {
      "cell_type": "code",
      "source": [
        "#getting the data source\n",
        "source = urllib.request.urlopen('https://phoenixkeanalytics.com/').read()"
      ],
      "metadata": {
        "id": "QV1kLUr8Cdfg"
      },
      "execution_count": 2,
      "outputs": []
    },
    {
      "cell_type": "code",
      "source": [
        "#parsing the data/creating beautiful soup object\n",
        "soup = BeautifulSoup(source, 'lxml')"
      ],
      "metadata": {
        "id": "QX0ZP_O-DQwj"
      },
      "execution_count": 3,
      "outputs": []
    },
    {
      "cell_type": "code",
      "source": [
        "#fetching the data\n",
        "text = \"\"\n",
        "for paragraph in soup.find_all('p'):\n",
        "    text += paragraph.text"
      ],
      "metadata": {
        "id": "lywNuKRgDaIw"
      },
      "execution_count": 4,
      "outputs": []
    },
    {
      "cell_type": "code",
      "source": [
        "#preprocessing the data\n",
        "text = re.sub(r'\\[[0-9]*\\]', ' ', text)\n",
        "text = re.sub(r'\\s+', ' ', text)\n",
        "text = re.sub(r'\\n', ' ', text)"
      ],
      "metadata": {
        "id": "JdxcyBV0D2KH"
      },
      "execution_count": 5,
      "outputs": []
    },
    {
      "cell_type": "code",
      "source": [
        "#preparing the dataset\n",
        "sentences = nltk.sent_tokenize(text)\n",
        "words = nltk.word_tokenize(text)\n",
        "sentences = [nltk.word_tokenize(sentence) for sentence in sentences]\n",
        "print(sentences)\n",
        "print(words)\n"
      ],
      "metadata": {
        "colab": {
          "base_uri": "https://localhost:8080/"
        },
        "id": "NudAwcviEGMw",
        "outputId": "a349c108-75aa-4a83-dc54-c61fd7e51fd3"
      },
      "execution_count": 6,
      "outputs": [
        {
          "output_type": "stream",
          "name": "stdout",
          "text": [
            "[['We', 'strive', 'to', 'create', 'a', 'collaborative', 'environment', 'where', 'data', 'enthusiasts', 'can', 'connect', ',', 'learn', 'and', 'innovate', 'together', '.'], ['programs', 'participantsLives', 'ReachedEvent', 'Attendees', 'Welcome', 'to', 'Phoenix', 'KE', 'Analytics', ',', 'where', 'raw', 'data', 'transforms', 'into', 'actionable', 'insights', '.'], ['As', 'a', 'dynamic', 'community', 'of', 'analytics', 'enthusiasts', 'and', 'tech', 'professionals', ',', 'we', 'invite', 'you', 'to', 'dive', 'deep', 'into', 'the', 'world', 'of', 'data', 'with', 'us', '.'], ['KES', '4,000KES', '2,500', 'Phoenix', 'KE', 'Analytics', 'helped', 'me', 'land', 'my', 'dream', 'job', '!'], ['I', 'found', 'the', 'job', 'posting', 'through', 'the', 'community', ',', 'and', 'with', 'the', 'support', 'and', 'guidance', 'I', 'received', ',', 'I', 'was', 'well-prepared', 'for', 'the', 'interview', 'process', '.'], ['I', \"'m\", 'now', 'working', 'as', 'a', 'Data', 'Analyst', 'at', 'a', 'top', 'tech', 'company', ',', 'and', 'I', 'could', \"n't\", 'be', 'happier', '.'], ['Jane', 'Data', 'Analyst', 'Phoenix', 'KE', 'Analytics', 'has', 'transformed', 'the', 'way', 'I', 'approach', 'data', 'analysis', '.'], ['The', 'community', 'is', 'incredibly', 'supportive', ',', 'and', 'the', 'resources', 'available', 'have', 'significantly', 'boosted', 'my', 'skills', '.'], ['Highly', 'recommended', 'for', 'anyone', 'looking', 'to', 'advance', 'their', 'analytics', 'career', '!'], ['Alex', 'Data', 'Scientist', 'I', 'joined', 'Phoenix', 'KE', 'Analytics', 'about', 'a', 'year', 'ago', 'and', 'it', 'has', 'been', 'a', 'game-changer', 'for', 'me', '.'], ['The', 'workshops', 'and', 'webinars', 'are', 'top-notch', ',', 'and', 'I', \"'ve\", 'learned', 'so', 'much', 'from', 'the', 'experts', 'in', 'the', 'community', '.'], ['It', \"'s\", 'a', 'great', 'place', 'to', 'connect', 'with', 'like-minded', 'professionals', 'and', 'stay', 'updated', 'with', 'the', 'latest', 'trends', 'in', 'analytics', '.'], ['Brian', 'Data', 'Scientist', 'The', 'events', 'hosted', 'by', 'Phoenix', 'KE', 'Analytics', 'are', 'nothing', 'short', 'of', 'spectacular', '!'], ['From', 'insightful', 'guest', 'speakers', 'to', 'hands-on', 'workshops', ',', 'every', 'event', 'is', 'meticulously', 'planned', 'and', 'executed', '.'], ['The', 'opportunity', 'to', 'learn', 'from', 'industry', 'leaders', 'and', 'network', 'with', 'peers', 'is', 'invaluable', '.'], ['I', 'always', 'leave', 'these', 'events', 'feeling', 'inspired', 'and', 'more', 'knowledgeable', '.'], ['David', 'Data', 'Engineer', 'The', 'resume', 'revamp', 'service', 'at', 'Phoenix', 'KE', 'Analytics', 'made', 'all', 'the', 'difference', 'for', 'me', '.'], ['After', 'updating', 'my', 'resume', 'with', 'their', 'expert', 'advice', ',', 'I', 'started', 'getting', 'more', 'interview', 'calls', '.'], ['The', 'feedback', 'and', 'tips', 'were', 'incredibly', 'helpful', ',', 'and', 'I', 'recently', 'secured', 'several', 'interviews', 'with', 'leading', 'firms', 'in', 'the', 'industry', '.', \"''\"], ['Lisa', 'Business', 'Intelligence', 'Specialist', 'Being', 'a', 'part', 'of', 'Phoenix', 'KE', 'Analytics', 'has', 'been', 'a', 'rewarding', 'experience', '.'], ['The', 'community', 'is', 'vibrant', 'and', 'always', 'willing', 'to', 'help', '.'], ['The', 'insights', 'and', 'knowledge', 'I', \"'ve\", 'gained', 'here', 'are', 'invaluable', 'for', 'my', 'professional', 'development', '.'], ['Sandra', 'Data', 'Scientist', 'Stay', 'up', 'to', 'date', 'with', 'the', 'latest', 'news.Terms', '&', 'ConditionsPrivacy', 'Policy©', '2024', 'Phoenix', 'KE', '.'], ['All', 'rights', 'reserved']]\n",
            "['We', 'strive', 'to', 'create', 'a', 'collaborative', 'environment', 'where', 'data', 'enthusiasts', 'can', 'connect', ',', 'learn', 'and', 'innovate', 'together', '.', 'programs', 'participantsLives', 'ReachedEvent', 'Attendees', 'Welcome', 'to', 'Phoenix', 'KE', 'Analytics', ',', 'where', 'raw', 'data', 'transforms', 'into', 'actionable', 'insights', '.', 'As', 'a', 'dynamic', 'community', 'of', 'analytics', 'enthusiasts', 'and', 'tech', 'professionals', ',', 'we', 'invite', 'you', 'to', 'dive', 'deep', 'into', 'the', 'world', 'of', 'data', 'with', 'us', '.', 'KES', '4,000KES', '2,500', 'Phoenix', 'KE', 'Analytics', 'helped', 'me', 'land', 'my', 'dream', 'job', '!', 'I', 'found', 'the', 'job', 'posting', 'through', 'the', 'community', ',', 'and', 'with', 'the', 'support', 'and', 'guidance', 'I', 'received', ',', 'I', 'was', 'well-prepared', 'for', 'the', 'interview', 'process', '.', 'I', \"'m\", 'now', 'working', 'as', 'a', 'Data', 'Analyst', 'at', 'a', 'top', 'tech', 'company', ',', 'and', 'I', 'could', \"n't\", 'be', 'happier', '.', 'Jane', 'Data', 'Analyst', 'Phoenix', 'KE', 'Analytics', 'has', 'transformed', 'the', 'way', 'I', 'approach', 'data', 'analysis', '.', 'The', 'community', 'is', 'incredibly', 'supportive', ',', 'and', 'the', 'resources', 'available', 'have', 'significantly', 'boosted', 'my', 'skills', '.', 'Highly', 'recommended', 'for', 'anyone', 'looking', 'to', 'advance', 'their', 'analytics', 'career', '!', 'Alex', 'Data', 'Scientist', 'I', 'joined', 'Phoenix', 'KE', 'Analytics', 'about', 'a', 'year', 'ago', 'and', 'it', 'has', 'been', 'a', 'game-changer', 'for', 'me', '.', 'The', 'workshops', 'and', 'webinars', 'are', 'top-notch', ',', 'and', 'I', \"'ve\", 'learned', 'so', 'much', 'from', 'the', 'experts', 'in', 'the', 'community', '.', 'It', \"'s\", 'a', 'great', 'place', 'to', 'connect', 'with', 'like-minded', 'professionals', 'and', 'stay', 'updated', 'with', 'the', 'latest', 'trends', 'in', 'analytics', '.', 'Brian', 'Data', 'Scientist', 'The', 'events', 'hosted', 'by', 'Phoenix', 'KE', 'Analytics', 'are', 'nothing', 'short', 'of', 'spectacular', '!', 'From', 'insightful', 'guest', 'speakers', 'to', 'hands-on', 'workshops', ',', 'every', 'event', 'is', 'meticulously', 'planned', 'and', 'executed', '.', 'The', 'opportunity', 'to', 'learn', 'from', 'industry', 'leaders', 'and', 'network', 'with', 'peers', 'is', 'invaluable', '.', 'I', 'always', 'leave', 'these', 'events', 'feeling', 'inspired', 'and', 'more', 'knowledgeable', '.', 'David', 'Data', 'Engineer', 'The', 'resume', 'revamp', 'service', 'at', 'Phoenix', 'KE', 'Analytics', 'made', 'all', 'the', 'difference', 'for', 'me', '.', 'After', 'updating', 'my', 'resume', 'with', 'their', 'expert', 'advice', ',', 'I', 'started', 'getting', 'more', 'interview', 'calls', '.', 'The', 'feedback', 'and', 'tips', 'were', 'incredibly', 'helpful', ',', 'and', 'I', 'recently', 'secured', 'several', 'interviews', 'with', 'leading', 'firms', 'in', 'the', 'industry', '.', \"''\", 'Lisa', 'Business', 'Intelligence', 'Specialist', 'Being', 'a', 'part', 'of', 'Phoenix', 'KE', 'Analytics', 'has', 'been', 'a', 'rewarding', 'experience', '.', 'The', 'community', 'is', 'vibrant', 'and', 'always', 'willing', 'to', 'help', '.', 'The', 'insights', 'and', 'knowledge', 'I', \"'ve\", 'gained', 'here', 'are', 'invaluable', 'for', 'my', 'professional', 'development', '.', 'Sandra', 'Data', 'Scientist', 'Stay', 'up', 'to', 'date', 'with', 'the', 'latest', 'news.Terms', '&', 'ConditionsPrivacy', 'Policy©', '2024', 'Phoenix', 'KE', '.', 'All', 'rights', 'reserved']\n"
          ]
        }
      ]
    },
    {
      "cell_type": "code",
      "source": [
        "#convert the dataset to json\n",
        "import json\n",
        "with open('sentences.json', 'w') as f:\n",
        "    json.dump(sentences, f)"
      ],
      "metadata": {
        "id": "qEHtCHrPGBcQ"
      },
      "execution_count": 7,
      "outputs": []
    }
  ]
}